{
 "cells": [
  {
   "cell_type": "code",
   "execution_count": 46,
   "id": "c7d358ab-4376-49f0-aa5c-3713f1099365",
   "metadata": {},
   "outputs": [],
   "source": [
    "import numpy as np \n",
    "import pandas as pd\n",
    "import seaborn as sns\n",
    "import matplotlib.pyplot as plt\n",
    "from sklearn.preprocessing import StandardScaler\n",
    "import sklearn.metrics as metrics\n",
    "from sklearn.metrics import roc_curve, precision_recall_curve, auc, confusion_matrix\n",
    "from sklearn.metrics import RocCurveDisplay, PrecisionRecallDisplay\n"
   ]
  },
  {
   "cell_type": "code",
   "execution_count": 40,
   "id": "30e78a4e-c841-4a4b-8df5-85997a5dd0b8",
   "metadata": {},
   "outputs": [],
   "source": [
    "MR = '5'#5 or 40 or 100\n",
    "\n",
    "data_file = (\"data/{}_mr_50_cond/simulated_noNoise.txt\").format(MR)\n",
    "grn_file = (\"data/{}_mr_50_cond/bipartite_GRN.csv\").format(MR)\n",
    "\n",
    "data = pd.read_csv(data_file, sep=\"\\t\", header=0)\n",
    "grn_df = pd.read_csv(grn_file, sep = \",\", header = None, names=['TF_ID', 'G_ID'])\n",
    "grn_df['W_true'] = 1\n",
    "\n",
    "N_genes = 100  # total no. of genes\n",
    "N_TFs = N_genes"
   ]
  },
  {
   "cell_type": "code",
   "execution_count": 41,
   "id": "2f39b91b-e73a-4296-bd66-e269a864c30f",
   "metadata": {},
   "outputs": [],
   "source": [
    "n_estimators=1000  # number of trees in the forest (as per GENIE paper)\n",
    "criterion='squared_error'  # variance reduction equivalent\n",
    "max_features = int(np.sqrt(N_genes-1)) # max no. of features to use in each tree (as per GENIE paper)\n",
    "random_state = 42  # for reproducibility"
   ]
  },
  {
   "cell_type": "code",
   "execution_count": 42,
   "id": "1a5cbf81-bec1-4165-acd0-19ae50e1e381",
   "metadata": {},
   "outputs": [],
   "source": [
    "# Normalize Expression data to unit-variance\n",
    "data_n = StandardScaler(with_mean=False).fit_transform(data.to_numpy())\n",
    "\n",
    "# Initialize matrices\n",
    "W = np.zeros(shape=(N_genes,N_TFs))\n",
    "Fscores = np.zeros(shape=(N_genes,))\n",
    "\n",
    "for j in np.arange(0,N_genes):\n",
    "    # read TF and gene expression data X and Gj\n",
    "    X, Gj= data_n[:,:N_TFs], data_n[:,N_genes+j]\n",
    "    \n",
    "    # fit an RF model to predict gene expression from TF\n",
    "    M_rf = RandomForestRegressor(criterion=criterion, n_estimators=n_estimators, max_features=max_features, random_state=random_state).fit(X,Gj)\n",
    "\n",
    "    # train score\n",
    "    Fscores[j] = M_rf.score(X,Gj)\n",
    "\n",
    "    # Get the weights for all edges connecting TFs to gene j\n",
    "    W[j,:] = M_rf.feature_importances_\n",
    "\n",
    "    # # # look at feature importance based on SHAP values\n",
    "    # # explainer = shap.TreeExplainer(M_rf)\n",
    "    # # shap_values = explainer(X)"
   ]
  },
  {
   "cell_type": "code",
   "execution_count": 43,
   "id": "c87cbc27-5bf7-4346-90ac-0174678c0c38",
   "metadata": {},
   "outputs": [],
   "source": [
    "W_df = pd.DataFrame(np.abs(W), dtype=np.float32)"
   ]
  },
  {
   "cell_type": "code",
   "execution_count": 48,
   "id": "24054cc8-53d7-4005-bf44-82470b74c311",
   "metadata": {},
   "outputs": [],
   "source": [
    "grn_pred = pd.melt(W_df.reset_index(), id_vars = 'index', var_name='TF_ID', value_name='W_pred').rename(columns={'index': 'G_ID'})\n",
    "\n",
    "grn_pred['G_ID'] = grn_pred['G_ID'].astype(np.int64) + 100\n",
    "grn_pred['TF_ID'] = grn_pred['TF_ID'].astype(np.int64)\n",
    "\n",
    "grn_eval = pd.merge(grn_pred,grn_df, on=['G_ID', 'TF_ID'], how='left')\n",
    "grn_eval['W_true'] = grn_eval['W_true'].fillna(int(0)) == 1.0\n"
   ]
  },
  {
   "cell_type": "code",
   "execution_count": 49,
   "id": "60b271bf-cf6b-4623-9c75-ff610effe8b2",
   "metadata": {},
   "outputs": [
    {
     "ename": "KeyError",
     "evalue": "'class'",
     "output_type": "error",
     "traceback": [
      "\u001b[0;31m---------------------------------------------------------------------------\u001b[0m",
      "\u001b[0;31mKeyError\u001b[0m                                  Traceback (most recent call last)",
      "File \u001b[0;32m~/opt/anaconda3/envs/treeGRN/lib/python3.10/site-packages/pandas/core/indexes/base.py:3790\u001b[0m, in \u001b[0;36mIndex.get_loc\u001b[0;34m(self, key)\u001b[0m\n\u001b[1;32m   3789\u001b[0m \u001b[38;5;28;01mtry\u001b[39;00m:\n\u001b[0;32m-> 3790\u001b[0m     \u001b[38;5;28;01mreturn\u001b[39;00m \u001b[38;5;28;43mself\u001b[39;49m\u001b[38;5;241;43m.\u001b[39;49m\u001b[43m_engine\u001b[49m\u001b[38;5;241;43m.\u001b[39;49m\u001b[43mget_loc\u001b[49m\u001b[43m(\u001b[49m\u001b[43mcasted_key\u001b[49m\u001b[43m)\u001b[49m\n\u001b[1;32m   3791\u001b[0m \u001b[38;5;28;01mexcept\u001b[39;00m \u001b[38;5;167;01mKeyError\u001b[39;00m \u001b[38;5;28;01mas\u001b[39;00m err:\n",
      "File \u001b[0;32mindex.pyx:152\u001b[0m, in \u001b[0;36mpandas._libs.index.IndexEngine.get_loc\u001b[0;34m()\u001b[0m\n",
      "File \u001b[0;32mindex.pyx:181\u001b[0m, in \u001b[0;36mpandas._libs.index.IndexEngine.get_loc\u001b[0;34m()\u001b[0m\n",
      "File \u001b[0;32mpandas/_libs/hashtable_class_helper.pxi:7080\u001b[0m, in \u001b[0;36mpandas._libs.hashtable.PyObjectHashTable.get_item\u001b[0;34m()\u001b[0m\n",
      "File \u001b[0;32mpandas/_libs/hashtable_class_helper.pxi:7088\u001b[0m, in \u001b[0;36mpandas._libs.hashtable.PyObjectHashTable.get_item\u001b[0;34m()\u001b[0m\n",
      "\u001b[0;31mKeyError\u001b[0m: 'class'",
      "\nThe above exception was the direct cause of the following exception:\n",
      "\u001b[0;31mKeyError\u001b[0m                                  Traceback (most recent call last)",
      "Cell \u001b[0;32mIn[49], line 1\u001b[0m\n\u001b[0;32m----> 1\u001b[0m precision, recall, thresholds_prc \u001b[38;5;241m=\u001b[39m precision_recall_curve(\u001b[43mgrn_eval\u001b[49m\u001b[43m[\u001b[49m\u001b[38;5;124;43m'\u001b[39;49m\u001b[38;5;124;43mclass\u001b[39;49m\u001b[38;5;124;43m'\u001b[39;49m\u001b[43m]\u001b[49m, grn_eval[\u001b[38;5;124m'\u001b[39m\u001b[38;5;124mcorr\u001b[39m\u001b[38;5;124m'\u001b[39m])\n\u001b[1;32m      2\u001b[0m fpr, tpr, thresholds_roc \u001b[38;5;241m=\u001b[39m roc_curve(grn_eval[\u001b[38;5;124m'\u001b[39m\u001b[38;5;124mclass\u001b[39m\u001b[38;5;124m'\u001b[39m], grn_eval[\u001b[38;5;124m'\u001b[39m\u001b[38;5;124mcorr\u001b[39m\u001b[38;5;124m'\u001b[39m])\n\u001b[1;32m      3\u001b[0m \u001b[38;5;66;03m# Use AUC function to calculate the area under the curve of precision recall curve\u001b[39;00m\n",
      "File \u001b[0;32m~/opt/anaconda3/envs/treeGRN/lib/python3.10/site-packages/pandas/core/frame.py:3896\u001b[0m, in \u001b[0;36mDataFrame.__getitem__\u001b[0;34m(self, key)\u001b[0m\n\u001b[1;32m   3894\u001b[0m \u001b[38;5;28;01mif\u001b[39;00m \u001b[38;5;28mself\u001b[39m\u001b[38;5;241m.\u001b[39mcolumns\u001b[38;5;241m.\u001b[39mnlevels \u001b[38;5;241m>\u001b[39m \u001b[38;5;241m1\u001b[39m:\n\u001b[1;32m   3895\u001b[0m     \u001b[38;5;28;01mreturn\u001b[39;00m \u001b[38;5;28mself\u001b[39m\u001b[38;5;241m.\u001b[39m_getitem_multilevel(key)\n\u001b[0;32m-> 3896\u001b[0m indexer \u001b[38;5;241m=\u001b[39m \u001b[38;5;28;43mself\u001b[39;49m\u001b[38;5;241;43m.\u001b[39;49m\u001b[43mcolumns\u001b[49m\u001b[38;5;241;43m.\u001b[39;49m\u001b[43mget_loc\u001b[49m\u001b[43m(\u001b[49m\u001b[43mkey\u001b[49m\u001b[43m)\u001b[49m\n\u001b[1;32m   3897\u001b[0m \u001b[38;5;28;01mif\u001b[39;00m is_integer(indexer):\n\u001b[1;32m   3898\u001b[0m     indexer \u001b[38;5;241m=\u001b[39m [indexer]\n",
      "File \u001b[0;32m~/opt/anaconda3/envs/treeGRN/lib/python3.10/site-packages/pandas/core/indexes/base.py:3797\u001b[0m, in \u001b[0;36mIndex.get_loc\u001b[0;34m(self, key)\u001b[0m\n\u001b[1;32m   3792\u001b[0m     \u001b[38;5;28;01mif\u001b[39;00m \u001b[38;5;28misinstance\u001b[39m(casted_key, \u001b[38;5;28mslice\u001b[39m) \u001b[38;5;129;01mor\u001b[39;00m (\n\u001b[1;32m   3793\u001b[0m         \u001b[38;5;28misinstance\u001b[39m(casted_key, abc\u001b[38;5;241m.\u001b[39mIterable)\n\u001b[1;32m   3794\u001b[0m         \u001b[38;5;129;01mand\u001b[39;00m \u001b[38;5;28many\u001b[39m(\u001b[38;5;28misinstance\u001b[39m(x, \u001b[38;5;28mslice\u001b[39m) \u001b[38;5;28;01mfor\u001b[39;00m x \u001b[38;5;129;01min\u001b[39;00m casted_key)\n\u001b[1;32m   3795\u001b[0m     ):\n\u001b[1;32m   3796\u001b[0m         \u001b[38;5;28;01mraise\u001b[39;00m InvalidIndexError(key)\n\u001b[0;32m-> 3797\u001b[0m     \u001b[38;5;28;01mraise\u001b[39;00m \u001b[38;5;167;01mKeyError\u001b[39;00m(key) \u001b[38;5;28;01mfrom\u001b[39;00m \u001b[38;5;21;01merr\u001b[39;00m\n\u001b[1;32m   3798\u001b[0m \u001b[38;5;28;01mexcept\u001b[39;00m \u001b[38;5;167;01mTypeError\u001b[39;00m:\n\u001b[1;32m   3799\u001b[0m     \u001b[38;5;66;03m# If we have a listlike key, _check_indexing_error will raise\u001b[39;00m\n\u001b[1;32m   3800\u001b[0m     \u001b[38;5;66;03m#  InvalidIndexError. Otherwise we fall through and re-raise\u001b[39;00m\n\u001b[1;32m   3801\u001b[0m     \u001b[38;5;66;03m#  the TypeError.\u001b[39;00m\n\u001b[1;32m   3802\u001b[0m     \u001b[38;5;28mself\u001b[39m\u001b[38;5;241m.\u001b[39m_check_indexing_error(key)\n",
      "\u001b[0;31mKeyError\u001b[0m: 'class'"
     ]
    }
   ],
   "source": [
    "precision, recall, thresholds_prc = precision_recall_curve(grn_eval['class'], grn_eval['corr'])\n",
    "fpr, tpr, thresholds_roc = roc_curve(grn_eval['class'], grn_eval['corr'])\n",
    "# Use AUC function to calculate the area under the curve of precision recall curve\n",
    "print(auc(recall, precision))\n",
    "print(auc(fpr,tpr))\n",
    "\n",
    "roc_gene = [] \n",
    "for i in range(100):\n",
    "    grn_eval_gene = grn_eval.iloc[i::N_TFs,:]\n",
    "    roc_gene.append(metrics.roc_auc_score(grn_eval_gene['class'], grn_eval_gene['corr']))\n",
    "    \n",
    "print(mean(roc_gene))"
   ]
  },
  {
   "cell_type": "code",
   "execution_count": null,
   "id": "20dc4603-ca07-4d6d-865b-aa3465d8278d",
   "metadata": {},
   "outputs": [],
   "source": [
    "pr_display = PrecisionRecallDisplay(precision=precision, recall=recall).plot()"
   ]
  },
  {
   "cell_type": "code",
   "execution_count": null,
   "id": "dde6baa3-0c3b-4ac3-b6ae-3aadd409fd85",
   "metadata": {},
   "outputs": [],
   "source": [
    "roc_display = RocCurveDisplay(fpr=fpr, tpr=tpr).plot()"
   ]
  },
  {
   "cell_type": "code",
   "execution_count": null,
   "id": "d14137ac-fec7-4c2d-9676-7aa41f54856a",
   "metadata": {},
   "outputs": [],
   "source": [
    "optimal_idx = np.argmax(tpr - fpr)\n",
    "optimal_threshold = thresholds_roc[optimal_idx]"
   ]
  },
  {
   "cell_type": "code",
   "execution_count": null,
   "id": "cdb0a3af-b9a0-4eca-a1e2-8f757d1828e4",
   "metadata": {},
   "outputs": [],
   "source": [
    "optimal_threshold"
   ]
  },
  {
   "cell_type": "code",
   "execution_count": null,
   "id": "0ec76158-a95d-47dd-8dc6-4e06005865d9",
   "metadata": {},
   "outputs": [],
   "source": [
    "grn_eval.loc[grn_eval['W_pred'] >= optimal_threshold, 'pred'] = 1\n",
    "grn_eval.loc[grn_eval['W_pred'] < optimal_threshold, 'pred'] = 0\n"
   ]
  },
  {
   "cell_type": "code",
   "execution_count": null,
   "id": "1f414807-9638-4a04-87ba-b1a3666a6c9d",
   "metadata": {},
   "outputs": [],
   "source": [
    "confusion_matrix(grn_eval['class'], grn_eval['pred'])"
   ]
  },
  {
   "cell_type": "code",
   "execution_count": null,
   "id": "2f513e3a-4eb5-4017-9f5a-e07699e91311",
   "metadata": {},
   "outputs": [],
   "source": []
  }
 ],
 "metadata": {
  "kernelspec": {
   "display_name": "treeGRN",
   "language": "python",
   "name": "treegrn"
  },
  "language_info": {
   "codemirror_mode": {
    "name": "ipython",
    "version": 3
   },
   "file_extension": ".py",
   "mimetype": "text/x-python",
   "name": "python",
   "nbconvert_exporter": "python",
   "pygments_lexer": "ipython3",
   "version": "3.10.13"
  }
 },
 "nbformat": 4,
 "nbformat_minor": 5
}
