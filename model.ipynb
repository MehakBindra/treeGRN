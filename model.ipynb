{
 "cells": [
  {
   "cell_type": "code",
   "execution_count": 30,
   "id": "c7d358ab-4376-49f0-aa5c-3713f1099365",
   "metadata": {},
   "outputs": [],
   "source": [
    "import numpy as np\n",
    "import pandas as pd\n",
    "import seaborn as sns\n",
    "import matplotlib.pyplot as plt\n",
    "from sklearn.preprocessing import StandardScaler\n",
    "from sklearn.ensemble import RandomForestRegressor\n",
    "import shap\n",
    "import sklearn.metrics as metrics"
   ]
  },
  {
   "cell_type": "code",
   "execution_count": 31,
   "id": "30e78a4e-c841-4a4b-8df5-85997a5dd0b8",
   "metadata": {},
   "outputs": [],
   "source": [
    "data_file = f\"data/5_mr_50_cond/simulated_noNoise.txt\"  #5 or 40 or 100\n",
    "\n",
    "data = pd.read_csv(data_file, sep=\"\\t\", header=0)\n",
    "\n",
    "N_genes = 100  # total no. of genes\n",
    "N_TFs = N_genes"
   ]
  },
  {
   "cell_type": "code",
   "execution_count": 32,
   "id": "2f39b91b-e73a-4296-bd66-e269a864c30f",
   "metadata": {},
   "outputs": [],
   "source": [
    "n_estimators=1000  # number of trees in the forest (as per GENIE paper)\n",
    "criterion='squared_error'  # variance reduction equivalent\n",
    "max_features = int(np.sqrt(N_genes-1)) # max no. of features to use in each tree (as per GENIE paper)\n",
    "random_state = 42  # for reproducibility"
   ]
  },
  {
   "cell_type": "code",
   "execution_count": 33,
   "id": "1a5cbf81-bec1-4165-acd0-19ae50e1e381",
   "metadata": {},
   "outputs": [],
   "source": [
    "# Normalize Expression data to unit-variance\n",
    "data_n = StandardScaler(with_mean=False).fit_transform(data.to_numpy())\n",
    "\n",
    "# Initialize matrices\n",
    "W = np.zeros(shape=(N_genes,N_TFs))\n",
    "Fscores = np.zeros(shape=(N_genes,))\n",
    "\n",
    "for j in np.arange(0,N_genes):\n",
    "    # read TF and gene expression data X and Gj\n",
    "    X, Gj= data_n[:,:N_TFs], data_n[:,N_genes+j]\n",
    "    \n",
    "    # fit an RF model to predict gene expression from TF\n",
    "    M_rf = RandomForestRegressor(criterion=criterion, n_estimators=n_estimators, max_features=max_features, random_state=random_state).fit(X,Gj)\n",
    "\n",
    "    # train score\n",
    "    Fscores[j] = M_rf.score(X,Gj)\n",
    "\n",
    "    # Get the weights for all edges connecting TFs to gene j\n",
    "    W[j,:] = M_rf.feature_importances_\n",
    "\n",
    "    # # # look at feature importance based on SHAP values\n",
    "    # # explainer = shap.TreeExplainer(M_rf)\n",
    "    # # shap_values = explainer(X)"
   ]
  },
  {
   "cell_type": "code",
   "execution_count": null,
   "id": "c87cbc27-5bf7-4346-90ac-0174678c0c38",
   "metadata": {},
   "outputs": [],
   "source": []
  }
 ],
 "metadata": {
  "kernelspec": {
   "display_name": "treeGRN",
   "language": "python",
   "name": "treegrn"
  },
  "language_info": {
   "codemirror_mode": {
    "name": "ipython",
    "version": 3
   },
   "file_extension": ".py",
   "mimetype": "text/x-python",
   "name": "python",
   "nbconvert_exporter": "python",
   "pygments_lexer": "ipython3",
   "version": "3.10.13"
  }
 },
 "nbformat": 4,
 "nbformat_minor": 5
}
