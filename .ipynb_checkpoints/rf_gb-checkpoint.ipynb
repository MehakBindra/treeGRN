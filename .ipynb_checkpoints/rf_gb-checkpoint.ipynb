{
 "cells": [
  {
   "cell_type": "code",
   "execution_count": 3,
   "id": "3272d711-c412-4f23-9cc1-82c03d9d31a3",
   "metadata": {
    "pycharm": {
     "name": "#%%\n"
    }
   },
   "outputs": [],
   "source": [
    "import numpy as np \n",
    "import pandas as pd\n",
    "from sklearn.preprocessing import StandardScaler\n",
    "import sklearn.metrics as metrics\n",
    "from sklearn.metrics import roc_curve, precision_recall_curve, auc\n",
    "from statistics import mean\n",
    "from sklearn.tree import DecisionTreeRegressor\n",
    "from sklearn.ensemble import GradientBoostingRegressor\n",
    "import shap\n",
    "from scipy.stats import ranksums"
   ]
  },
  {
   "cell_type": "code",
   "execution_count": 1,
   "id": "6bfabe45-a58b-4461-b9a3-3a224df225df",
   "metadata": {
    "pycharm": {
     "name": "#%%\n"
    }
   },
   "outputs": [],
   "source": [
    "MR = [5, 40, 100]\n",
    "N_genes = 100  # total no. of genes\n",
    "N_TFs = N_genes\n",
    "\n",
    "n_estimators=[500, 1000, 2000]  # number of trees in the forest\n",
    "criterion='squared_error'  # variance reduction equivalent\n",
    "max_features = [N_TFs, 'sqrt'] # max no. of features to use in each split \n",
    "random_state = 42  # for reproducibility"
   ]
  },
  {
   "cell_type": "code",
   "execution_count": 3,
   "id": "62e1910a-9be6-4e32-88f2-4a7911e29df6",
   "metadata": {
    "pycharm": {
     "name": "#%%\n"
    }
   },
   "outputs": [],
   "source": [
    "#rf_results = pd.DataFrame(columns=['MR', 'FI', 'N_EST', 'MAX_FEATURES','BOOTSTRAPPING', 'AUPRC', 'AUROC', 'MEAN_AUROC','STD_AUROC','MEAN_AUPRC','STD_AUPRC', 'p-value', 'BOOSTING'])\n",
    "#rf_results.to_csv(\"results/grn_rf_gb_results.csv\", index=False)     \n"
   ]
  },
  {
   "cell_type": "code",
   "execution_count": 11,
   "id": "54839070-d78a-4834-8c85-7cb418490507",
   "metadata": {
    "pycharm": {
     "name": "#%%\n"
    }
   },
   "outputs": [],
   "source": [
    "for mr in MR:\n",
    "    for n_est in n_estimators:\n",
    "        for m_f in max_features:\n",
    "                \n",
    "                rf_results = pd.read_csv(\"results/grn_rf_gb_results.csv\", header=0)\n",
    "                \n",
    "                data_file = (\"data/{}_mr_50_cond/simulated_noNoise.txt\").format(mr)\n",
    "                grn_file = (\"data/{}_mr_50_cond/bipartite_GRN.csv\").format(mr)\n",
    "\n",
    "                data = pd.read_csv(data_file, sep=\"\\t\", header=0)\n",
    "                grn_df = pd.read_csv(grn_file, sep = \",\", header = None, names=['TF_ID', 'G_ID'])\n",
    "                grn_df['class'] = 1\n",
    "\n",
    "                # Normalize Expression data to unit-variance\n",
    "                data_n = StandardScaler(with_mean=False).fit_transform(data.to_numpy())\n",
    "\n",
    "                # Initialize matrices\n",
    "                W = np.zeros(shape=(N_genes,N_TFs))\n",
    "                W_shap = np.zeros(shape=(N_genes,N_TFs))\n",
    "                Fscores = np.zeros(shape=(N_genes,))\n",
    "\n",
    "                for j in np.arange(0,N_genes):\n",
    "                    # read TF and gene expression data X and Gj\n",
    "                    X, Gj= data_n[:,:N_TFs], data_n[:,N_genes+j]\n",
    "\n",
    "                    # fit an RF model to predict gene expression from TF\n",
    "                    M_rf_gb = GradientBoostingRegressor(criterion=criterion, n_estimators=n_est, loss='squared_error', max_features=m_f, random_state=random_state).fit(X,Gj)\n",
    "                    # train score\n",
    "                    Fscores[j] = M_rf_gb.score(X,Gj)\n",
    "\n",
    "                    # Get the weights for all edges connecting TFs to gene j\n",
    "                    W[j,:] = M_rf_gb.feature_importances_\n",
    "\n",
    "                    # look at feature importance based on SHAP values\n",
    "                    explainer = shap.TreeExplainer(M_rf_gb)\n",
    "                    shap_values = explainer(X)\n",
    "                    W_shap[j,:] = np.mean(np.abs(shap_values.values), axis=0)\n",
    "                    \n",
    "                W_df = pd.DataFrame(np.abs(W))\n",
    "\n",
    "                grn_pred = pd.melt(W_df.reset_index(), id_vars = 'index', var_name='TF_ID', value_name='W_pred').rename(columns={'index': 'G_ID'})\n",
    "\n",
    "                grn_pred['G_ID'] = grn_pred['G_ID'].astype(np.int64) + 100\n",
    "                grn_pred['TF_ID'] = grn_pred['TF_ID'].astype(np.int64)\n",
    "\n",
    "                grn_eval = pd.merge(grn_pred,grn_df, on=['G_ID', 'TF_ID'], how='left')\n",
    "                grn_eval['class'] = grn_eval['class'].fillna(int(0))\n",
    "\n",
    "                grn_eval.to_csv(\"results/{}_mr_50_cond/grn_eval_rf_vr_{}_{}_gb_{}.csv\".format(mr,n_est,m_f,'squared_error'), index=False)\n",
    "\n",
    "                precision, recall, thresholds_prc = precision_recall_curve(grn_eval['class'], grn_eval['W_pred'])\n",
    "                fpr, tpr, thresholds_roc = roc_curve(grn_eval['class'], grn_eval['W_pred'])\n",
    "                auprc = auc(recall, precision)\n",
    "                auroc = auc(fpr,tpr)\n",
    "\n",
    "                roc_gene = [] \n",
    "                ap_gene = []\n",
    "                for i in range(100):\n",
    "                    grn_eval_gene = grn_eval.iloc[i::N_TFs,:]\n",
    "                    roc_gene.append(metrics.roc_auc_score(grn_eval_gene['class'], grn_eval_gene['W_pred']))\n",
    "                    ap_gene.append(metrics.average_precision_score(grn_eval_gene['class'], grn_eval_gene['W_pred']))\n",
    "\n",
    "                mean_auroc = mean(roc_gene)\n",
    "                sd_auroc = np.std(roc_gene)\n",
    "                \n",
    "                mean_auprc = mean(ap_gene)\n",
    "                sd_auprc = np.std(ap_gene)\n",
    "\n",
    "                ranksums_pvalue = ranksums(grn_eval[grn_eval['class']==1]['W_pred'], grn_eval[grn_eval['class']==0]['W_pred'], alternative='greater')\n",
    "\n",
    "                prc = pd.DataFrame({'precision': precision, 'recall': recall}, columns=['precision', 'recall'])\n",
    "                roc = pd.DataFrame({'fpr': fpr, 'tpr': tpr}, columns=['fpr', 'tpr'])\n",
    "                prc.to_csv(\"results/{}_mr_50_cond/grn_prc_rf_vr_{}_{}_gb_{}.csv\".format(mr,n_est,m_f,'squared_error'), index=False)\n",
    "                roc.to_csv(\"results/{}_mr_50_cond/grn_roc_rf_vr_{}_{}_gb_{}.csv\".format(mr,n_est,m_f,'squared_error'), index=False)\n",
    "                \n",
    "                temp1 = pd.DataFrame([[mr, \"VR\", n_est, m_f, False, auprc, auroc, mean_auroc, sd_auroc, mean_auprc, sd_auprc, ranksums_pvalue[1], \"GradientBoosting\" + 'squared_error']], \\\n",
    "                        columns=['MR', 'FI', 'N_EST', 'MAX_FEATURES','BOOTSTRAPPING', 'AUPRC', 'AUROC', 'MEAN_AUROC','STD_AUROC','MEAN_AUPRC','STD_AUPRC', 'p-value', 'BOOSTING'])\n",
    "         \n",
    "                W_shap_df = pd.DataFrame(np.abs(W_shap))\n",
    "\n",
    "                grn_pred_shap = pd.melt(W_shap_df.reset_index(), id_vars = 'index', var_name='TF_ID', value_name='W_pred').rename(columns={'index': 'G_ID'})\n",
    "\n",
    "                grn_pred_shap['G_ID'] = grn_pred_shap['G_ID'].astype(np.int64) + 100\n",
    "                grn_pred_shap['TF_ID'] = grn_pred_shap['TF_ID'].astype(np.int64)\n",
    "\n",
    "                grn_eval_shap = pd.merge(grn_pred_shap,grn_df, on=['G_ID', 'TF_ID'], how='left')\n",
    "                grn_eval_shap['class'] = grn_eval_shap['class'].fillna(int(0)) == 1.0\n",
    "\n",
    "                grn_eval_shap.to_csv(\"results/{}_mr_50_cond/grn_eval_rf_shap_{}_{}_gb_{}.csv\".format(mr,n_est,m_f,'squared_error'), index=False)\n",
    "\n",
    "                precision, recall, thresholds_prc = precision_recall_curve(grn_eval_shap['class'], grn_eval_shap['W_pred'])\n",
    "                fpr, tpr, thresholds_roc = roc_curve(grn_eval_shap['class'], grn_eval_shap['W_pred'])\n",
    "                auprc = auc(recall, precision)\n",
    "                auroc = auc(fpr,tpr)\n",
    "\n",
    "                roc_gene = [] \n",
    "                ap_gene = []\n",
    "                for i in range(100):\n",
    "                    grn_eval_gene = grn_eval_shap.iloc[i::N_TFs,:]\n",
    "                    roc_gene.append(metrics.roc_auc_score(grn_eval_gene['class'], grn_eval_gene['W_pred']))\n",
    "                    ap_gene.append(metrics.average_precision_score(grn_eval_gene['class'], grn_eval_gene['W_pred']))\n",
    "\n",
    "                mean_auroc = mean(roc_gene)\n",
    "                sd_auroc = np.std(roc_gene)\n",
    "                \n",
    "                mean_auprc = mean(ap_gene)\n",
    "                sd_auprc = np.std(ap_gene)\n",
    "\n",
    "                mean_auroc = mean(roc_gene)\n",
    "                ranksums_pvalue = ranksums(grn_eval_shap[grn_eval_shap['class']==1]['W_pred'], grn_eval_shap[grn_eval_shap['class']==0]['W_pred'], alternative='greater')\n",
    "\n",
    "                prc = pd.DataFrame({'precision': precision, 'recall': recall}, columns=['precision', 'recall'])\n",
    "                roc = pd.DataFrame({'fpr': fpr, 'tpr': tpr}, columns=['fpr', 'tpr'])\n",
    "                prc.to_csv(\"results/{}_mr_50_cond/grn_prc_rf_shap_{}_{}_gb_{}.csv\".format(mr,n_est,m_f,'squared_error'), index=False)\n",
    "                roc.to_csv(\"results/{}_mr_50_cond/grn_roc_rf_shap_{}_{}_gb_{}.csv\".format(mr,n_est,m_f,'squared_error'), index=False)\n",
    "                \n",
    "                temp2 = pd.DataFrame([[mr, \"SHAP\", n_est, m_f, False, auprc, auroc, mean_auroc,sd_auroc, mean_auprc, sd_auprc, ranksums_pvalue[1], \"GradientBoosting\" + 'squared_error']], \\\n",
    "                        columns=['MR', 'FI', 'N_EST', 'MAX_FEATURES','BOOTSTRAPPING', 'AUPRC', 'AUROC', 'MEAN_AUROC','STD_AUROC','MEAN_AUPRC','STD_AUPRC', 'p-value', 'BOOSTING'])\n",
    "                \n",
    "                df_list = [rf_results, temp1, temp2]\n",
    "                df_out = pd.concat([df for df in df_list if not df.empty])                \n",
    "                df_out.to_csv(\"results/grn_rf_gb_results.csv\", index=False)"
   ]
  }
 ],
 "metadata": {
  "kernelspec": {
   "display_name": "treeGRN",
   "language": "python",
   "name": "treegrn"
  },
  "language_info": {
   "codemirror_mode": {
    "name": "ipython",
    "version": 3
   },
   "file_extension": ".py",
   "mimetype": "text/x-python",
   "name": "python",
   "nbconvert_exporter": "python",
   "pygments_lexer": "ipython3",
   "version": "3.10.13"
  }
 },
 "nbformat": 4,
 "nbformat_minor": 5
}
