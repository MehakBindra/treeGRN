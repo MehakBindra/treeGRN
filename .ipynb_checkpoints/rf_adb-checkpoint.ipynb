{
 "cells": [
  {
   "cell_type": "code",
   "execution_count": 34,
   "id": "3a6b0903-ab61-4526-a0e1-991fccae430e",
   "metadata": {},
   "outputs": [],
   "source": [
    "import numpy as np \n",
    "import pandas as pd\n",
    "import seaborn as sns\n",
    "import matplotlib.pyplot as plt\n",
    "from sklearn.preprocessing import StandardScaler\n",
    "import sklearn.metrics as metrics\n",
    "from sklearn.metrics import roc_curve, precision_recall_curve, auc, confusion_matrix\n",
    "from sklearn.metrics import RocCurveDisplay, PrecisionRecallDisplay\n",
    "from statistics import mean, median\n",
    "from sklearn.tree import DecisionTreeRegressor\n",
    "from sklearn.ensemble import AdaBoostRegressor\n",
    "import shap"
   ]
  },
  {
   "cell_type": "code",
   "execution_count": 35,
   "id": "4cef752a-0d87-4dd9-bf0c-858ceb2960ea",
   "metadata": {},
   "outputs": [],
   "source": [
    "MR = 5\n",
    "\n",
    "data_file = (\"data/{}_mr_50_cond/simulated_noNoise.txt\").format(MR)\n",
    "grn_file = (\"data/{}_mr_50_cond/bipartite_GRN.csv\").format(MR)\n",
    "\n",
    "data = pd.read_csv(data_file, sep=\"\\t\", header=0)\n",
    "grn_df = pd.read_csv(grn_file, sep = \",\", header = None, names=['TF_ID', 'G_ID'])\n",
    "grn_df['class'] = 1\n",
    "\n",
    "N_genes = 100  # total no. of genes\n",
    "N_TFs = N_genes"
   ]
  },
  {
   "cell_type": "code",
   "execution_count": 51,
   "id": "311b6bc7-663f-43b3-b1d9-4fe95356b083",
   "metadata": {},
   "outputs": [],
   "source": [
    "n_estimators=1000  # number of trees in the forest (as per GENIE paper)\n",
    "criterion='squared_error'  # variance reduction equivalent\n",
    "max_features =  int(np.sqrt(N_TFs)) # max no. of features to use in each tree (as per GENIE paper)\n",
    "random_state = 42  # for reproducibility"
   ]
  },
  {
   "cell_type": "code",
   "execution_count": null,
   "id": "8708ba10-c1e0-4a20-a55c-809e9562c262",
   "metadata": {},
   "outputs": [],
   "source": [
    "# Normalize Expression data to unit-variance\n",
    "data_n = StandardScaler(with_mean=False).fit_transform(data.to_numpy())\n",
    "\n",
    "# Initialize matrices\n",
    "W = np.zeros(shape=(N_genes,N_TFs))\n",
    "W_shap = np.zeros(shape=(N_genes,N_TFs))\n",
    "Fscores = np.zeros(shape=(N_genes,))\n",
    "\n",
    "for j in np.arange(0,N_genes):\n",
    "    # read TF and gene expression data X and Gj\n",
    "    X, Gj= data_n[:,:N_TFs], data_n[:,N_genes+j]\n",
    "    \n",
    "    # fit a boosted RF model to predict gene expression from TF\n",
    "    M_dt = DecisionTreeRegressor(criterion=criterion, max_features=max_features, random_state=random_state, )\n",
    "    M_rf_adb = AdaBoostRegressor(estimator=M_dt, n_estimators=n_estimators, loss='linear', random_state=random_state).fit(X,Gj)\n",
    "    # train score\n",
    "    Fscores[j] = M_rf_xgb.score(X,Gj)\n",
    "\n",
    "    # Get the weights for all edges connecting TFs to gene j\n",
    "    W[j,:] = M_rf_xgb.feature_importances_\n",
    "\n",
    "    # look at feature importance based on SHAP values\n",
    "    # explainer = shap.TreeExplainer(M_rf_xgb)\n",
    "    # shap_values = explainer(X)\n",
    "    # W_shap[j,:] = np.mean(np.abs(shap_values.values), axis=0)"
   ]
  },
  {
   "cell_type": "code",
   "execution_count": null,
   "id": "fc84aa72-8a67-4dcd-9f3a-762e786ee287",
   "metadata": {},
   "outputs": [],
   "source": [
    "W_df = pd.DataFrame(np.abs(W))\n",
    "\n",
    "plt.figure(figsize=(13, 3))\n",
    "ax = sns.heatmap(W_df,\n",
    "            cmap = \"flare\",\n",
    "            linewidths=0.5)\n",
    "\n",
    "grn_pred = pd.melt(W_df.reset_index(), id_vars = 'index', var_name='TF_ID', value_name='W_pred').rename(columns={'index': 'G_ID'})\n",
    "\n",
    "grn_pred['G_ID'] = grn_pred['G_ID'].astype(np.int64) + 100\n",
    "grn_pred['TF_ID'] = grn_pred['TF_ID'].astype(np.int64)\n",
    "\n",
    "grn_eval = pd.merge(grn_pred,grn_df, on=['G_ID', 'TF_ID'], how='left')\n",
    "grn_eval['class'] = grn_eval['class'].fillna(int(0))\n",
    "\n",
    "grn_eval.to_csv(\"results/{}_mr_50_cond/grn_eval_rf.csv\".format(MR))\n",
    "\n",
    "precision, recall, thresholds_prc = precision_recall_curve(grn_eval['class'], grn_eval['W_pred'])\n",
    "fpr, tpr, thresholds_roc = roc_curve(grn_eval['class'], grn_eval['W_pred'])\n",
    "# Use AUC function to calculate the area under the curve of precision recall curve\n",
    "print(\"auprc\" , auc(recall, precision))\n",
    "print(\"auroc\" , auc(fpr,tpr))\n",
    "\n",
    "roc_gene = [] \n",
    "for i in range(100):\n",
    "    grn_eval_gene = grn_eval.iloc[i::N_TFs,:]\n",
    "    roc_gene.append(metrics.roc_auc_score(grn_eval_gene['class'], grn_eval_gene['W_pred']))\n",
    "    \n",
    "print(\"mean auroc\", mean(roc_gene))\n",
    "\n",
    "pr_display = PrecisionRecallDisplay(precision=precision, recall=recall).plot()\n",
    "roc_display = RocCurveDisplay(fpr=fpr, tpr=tpr).plot()\n",
    "optimal_idx = np.argmax(tpr - fpr)\n",
    "optimal_threshold = thresholds_roc[optimal_idx]\n",
    "print(\"optimal threshold\", optimal_threshold)\n",
    "\n",
    "grn_eval.loc[grn_eval['W_pred'] >= optimal_threshold, 'pred'] = 1\n",
    "grn_eval.loc[grn_eval['W_pred'] < optimal_threshold, 'pred'] = 0\n",
    "\n",
    "confusion_matrix(grn_eval['class'], grn_eval['pred'])"
   ]
  },
  {
   "cell_type": "code",
   "execution_count": null,
   "id": "7c6d0c19-beee-4333-9048-76222f1d0c58",
   "metadata": {},
   "outputs": [],
   "source": []
  }
 ],
 "metadata": {
  "kernelspec": {
   "display_name": "treeGRN",
   "language": "python",
   "name": "treegrn"
  },
  "language_info": {
   "codemirror_mode": {
    "name": "ipython",
    "version": 3
   },
   "file_extension": ".py",
   "mimetype": "text/x-python",
   "name": "python",
   "nbconvert_exporter": "python",
   "pygments_lexer": "ipython3",
   "version": "3.10.13"
  }
 },
 "nbformat": 4,
 "nbformat_minor": 5
}
