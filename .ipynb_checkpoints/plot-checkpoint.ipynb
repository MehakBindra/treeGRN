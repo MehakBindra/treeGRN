{
 "cells": [
  {
   "cell_type": "code",
   "execution_count": 8,
   "id": "88e14990-4ceb-4f94-9f40-5cc219817cd9",
   "metadata": {
    "pycharm": {
     "name": "#%%\n"
    }
   },
   "outputs": [],
   "source": [
    "import numpy as np \n",
    "import pandas as pd\n",
    "import matplotlib.pyplot as plt \n",
    "import seaborn as sns"
   ]
  },
  {
   "cell_type": "code",
   "execution_count": 9,
   "id": "25c92067-94ed-4995-97ad-23005d90a0b0",
   "metadata": {
    "pycharm": {
     "name": "#%%\n"
    }
   },
   "outputs": [],
   "source": [
    "rf = pd.read_csv(\"results/grn_rf_results.csv\", header=0)\n",
    "rf_adb = pd.read_csv(\"results/grn_rf_ada_results.csv\", header=0)\n",
    "rf_gb = pd.read_csv(\"results/grn_rf_gb_results.csv\", header=0)"
   ]
  },
  {
   "cell_type": "code",
   "execution_count": 10,
   "id": "395e698a-4059-449f-97c2-cc02a2e20d73",
   "metadata": {
    "pycharm": {
     "name": "#%%\n"
    }
   },
   "outputs": [],
   "source": [
    "new_rows = []\n",
    "for index, row in rf_adb.iterrows():\n",
    "    new_row = row.copy()\n",
    "    new_row['FI'] = 'SHAP'\n",
    "    new_row['AUPRC'] = None\n",
    "    new_row['AUROC'] = None\n",
    "    new_row['MEAN_AUROC'] = None\n",
    "    new_row['STD_AUROC'] = None\n",
    "    new_row['MEAN_AUPRC'] = None\n",
    "    new_row['STD_AUPRC'] = None\n",
    "    new_row['p-value'] = None\n",
    "    new_rows.append(row)\n",
    "    new_rows.append(new_row)\n",
    "\n",
    "rf_adb_new = pd.DataFrame(new_rows, columns=rf_adb.columns)"
   ]
  },
  {
   "cell_type": "code",
   "execution_count": 11,
   "id": "9b4ae170-563c-43fa-b497-40ca38aec98c",
   "metadata": {
    "pycharm": {
     "name": "#%%\n"
    }
   },
   "outputs": [],
   "source": [
    "df_list = [rf, rf_adb_new, rf_gb]\n",
    "results_all = pd.concat(df_list)"
   ]
  },
  {
   "cell_type": "code",
   "execution_count": 12,
   "id": "828bcfaf-fc18-40bd-a33c-ee057779b974",
   "metadata": {
    "pycharm": {
     "name": "#%%\n"
    }
   },
   "outputs": [],
   "source": [
    "results_all[\"Index\"] =''\n",
    "results_all.loc[(results_all[\"MAX_FEATURES\"] == '100') & (results_all[\"BOOSTING\"] == \"No\") & (results_all[\"BOOTSTRAPPING\"] == False) , \"Index\"] = \"Vanilla\" \n",
    "results_all.loc[(results_all[\"MAX_FEATURES\"] == '100') & (results_all[\"BOOSTING\"] == \"No\") & (results_all[\"BOOTSTRAPPING\"] == True) , \"Index\"] = \"Bootstrapping\" \n",
    "results_all.loc[(results_all[\"MAX_FEATURES\"] == 'sqrt') & (results_all[\"BOOSTING\"] == \"No\") & (results_all[\"BOOTSTRAPPING\"] == False) , \"Index\"] = \"Feature Bagging\" \n",
    "results_all.loc[(results_all[\"MAX_FEATURES\"] == 'sqrt') & (results_all[\"BOOSTING\"] == \"No\") & (results_all[\"BOOTSTRAPPING\"] == True) , \"Index\"] = \"Feature Bagging \\n& Bootstrapping\" \n",
    "results_all.loc[(results_all[\"MAX_FEATURES\"] == '100') & (results_all[\"BOOSTING\"] == \"Adaboostexponential\") & (results_all[\"BOOTSTRAPPING\"] == False) , \"Index\"] = \"Adaboost\" \n",
    "results_all.loc[(results_all[\"MAX_FEATURES\"] == 'sqrt') & (results_all[\"BOOSTING\"] == \"Adaboostexponential\") & (results_all[\"BOOTSTRAPPING\"] == False) , \"Index\"] = \"Adaboost \\n& Feature Bagging\" \n",
    "results_all.loc[(results_all[\"MAX_FEATURES\"] == '100') & (results_all[\"BOOSTING\"] == \"GradientBoostingsquared_error\") & (results_all[\"BOOTSTRAPPING\"] == False) , \"Index\"] = \"Gradient Boosting\" \n",
    "results_all.loc[(results_all[\"MAX_FEATURES\"] == 'sqrt') & (results_all[\"BOOSTING\"] == \"GradientBoostingsquared_error\") & (results_all[\"BOOTSTRAPPING\"] == False) , \"Index\"] = \"Gradient Boosting \\n& Feature Bagging\" \n",
    "\n",
    "results_all.to_csv('./results/results_all_long.csv')"
   ]
  }
 ],
 "metadata": {
  "kernelspec": {
   "display_name": "treeGRN",
   "language": "python",
   "name": "treegrn"
  },
  "language_info": {
   "codemirror_mode": {
    "name": "ipython",
    "version": 3
   },
   "file_extension": ".py",
   "mimetype": "text/x-python",
   "name": "python",
   "nbconvert_exporter": "python",
   "pygments_lexer": "ipython3",
   "version": "3.10.13"
  }
 },
 "nbformat": 4,
 "nbformat_minor": 5
}
