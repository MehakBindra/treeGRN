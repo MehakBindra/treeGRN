{
 "cells": [
  {
   "cell_type": "code",
   "execution_count": null,
   "outputs": [],
   "source": [
    "import numpy as np \n",
    "import pandas as pd\n",
    "import matplotlib.pyplot as plt \n",
    "import seaborn as sns\n",
    "import os\n",
    "from sklearn.metrics import RocCurveDisplay, PrecisionRecallDisplay\n",
    "import matplotlib.pyplot as plt"
   ],
   "metadata": {
    "collapsed": false,
    "pycharm": {
     "name": "#%%\n"
    }
   }
  },
  {
   "cell_type": "code",
   "execution_count": null,
   "outputs": [],
   "source": [
    "rf = pd.read_csv(\"results/grn_rf_results.csv\", header=0)\n",
    "rf_adb = pd.read_csv(\"results/grn_rf_ada_results.csv\", header=0)\n",
    "rf_gb = pd.read_csv(\"results/grn_rf_gb_results.csv\", header=0)"
   ],
   "metadata": {
    "collapsed": false,
    "pycharm": {
     "name": "#%%\n"
    }
   }
  },
  {
   "cell_type": "code",
   "execution_count": null,
   "outputs": [],
   "source": [
    "new_rows = []\n",
    "for index, row in rf_adb.iterrows():\n",
    "    new_row = row.copy()\n",
    "    new_row['FI'] = 'SHAP'\n",
    "    new_row['AUPRC'] = None\n",
    "    new_row['AUROC'] = None\n",
    "    new_row['MEAN_AUROC'] = None\n",
    "    new_row['STD_AUROC'] = None\n",
    "    new_row['MEAN_AUPRC'] = None\n",
    "    new_row['STD_AUPRC'] = None\n",
    "    new_row['p-value'] = None\n",
    "    new_rows.append(row)\n",
    "    new_rows.append(new_row)\n",
    "\n",
    "rf_adb_new = pd.DataFrame(new_rows, columns=rf_adb.columns)"
   ],
   "metadata": {
    "collapsed": false,
    "pycharm": {
     "name": "#%%\n"
    }
   }
  },
  {
   "cell_type": "code",
   "execution_count": null,
   "outputs": [],
   "source": [
    "df_list = [rf, rf_adb_new, rf_gb]\n",
    "results_all = pd.concat(df_list)"
   ],
   "metadata": {
    "collapsed": false,
    "pycharm": {
     "name": "#%%\n"
    }
   }
  },
  {
   "cell_type": "code",
   "execution_count": null,
   "outputs": [],
   "source": [
    "results_all[\"Index\"] =''\n",
    "results_all.loc[(results_all[\"MAX_FEATURES\"] == '100') & (results_all[\"BOOSTING\"] == \"No\") & (results_all[\"BOOTSTRAPPING\"] == False) , \"Index\"] = \"Vanilla\" \n",
    "results_all.loc[(results_all[\"MAX_FEATURES\"] == '100') & (results_all[\"BOOSTING\"] == \"No\") & (results_all[\"BOOTSTRAPPING\"] == True) , \"Index\"] = \"Bootstrapping\" \n",
    "results_all.loc[(results_all[\"MAX_FEATURES\"] == 'sqrt') & (results_all[\"BOOSTING\"] == \"No\") & (results_all[\"BOOTSTRAPPING\"] == False) , \"Index\"] = \"Feature Bagging\" \n",
    "results_all.loc[(results_all[\"MAX_FEATURES\"] == 'sqrt') & (results_all[\"BOOSTING\"] == \"No\") & (results_all[\"BOOTSTRAPPING\"] == True) , \"Index\"] = \"Feature Bagging \\n& Bootstrapping\" \n",
    "results_all.loc[(results_all[\"MAX_FEATURES\"] == '100') & (results_all[\"BOOSTING\"] == \"Adaboostexponential\") & (results_all[\"BOOTSTRAPPING\"] == False) , \"Index\"] = \"Adaboost\" \n",
    "results_all.loc[(results_all[\"MAX_FEATURES\"] == 'sqrt') & (results_all[\"BOOSTING\"] == \"Adaboostexponential\") & (results_all[\"BOOTSTRAPPING\"] == False) , \"Index\"] = \"Adaboost \\n& Feature Bagging\" \n",
    "results_all.loc[(results_all[\"MAX_FEATURES\"] == '100') & (results_all[\"BOOSTING\"] == \"GradientBoostingsquared_error\") & (results_all[\"BOOTSTRAPPING\"] == False) , \"Index\"] = \"Gradient Boosting\" \n",
    "results_all.loc[(results_all[\"MAX_FEATURES\"] == 'sqrt') & (results_all[\"BOOSTING\"] == \"GradientBoostingsquared_error\") & (results_all[\"BOOTSTRAPPING\"] == False) , \"Index\"] = \"Gradient Boosting \\n& Feature Bagging\" \n",
    "\n",
    "results_all = results_all.drop(results_all[results_all['Index'] == 'Vanilla'].index)\n",
    "results_all.to_csv('./results/results_all_long.csv')"
   ],
   "metadata": {
    "collapsed": false,
    "pycharm": {
     "name": "#%%\n"
    }
   }
  },
  {
   "cell_type": "code",
   "execution_count": null,
   "outputs": [],
   "source": [
    "MR=[5,40,100]\n",
    "for mr in MR:\n",
    "    fig, ax = plt.subplots()\n",
    "    for file in os.listdir(\"results/{}_mr_50_cond/\".format(mr)):\n",
    "        if file.startswith(\"grn_prc\"):\n",
    "            if file == 'grn_prc_baseline.csv':\n",
    "                baseline = file\n",
    "                continue\n",
    "            prc = pd.read_csv(\"results/{}_mr_50_cond/\".format(mr) + file, header=0)\n",
    "            pr_display = PrecisionRecallDisplay(precision=prc[\"precision\"], recall=prc[\"recall\"]).plot(ax=ax, color='#1f77b4')\n",
    "        \n",
    "    prc = pd.read_csv(\"results/{}_mr_50_cond/\".format(mr) + baseline, header=0)\n",
    "    pr_display = PrecisionRecallDisplay(precision=prc[\"precision\"], recall=prc[\"recall\"]).plot(ax=ax, color='red')\n",
    "    plt.savefig(\"results/{}_precision_recall_plot.png\".format(mr))"
   ],
   "metadata": {
    "collapsed": false,
    "pycharm": {
     "name": "#%%\n"
    }
   }
  },
  {
   "cell_type": "code",
   "execution_count": null,
   "outputs": [],
   "source": [
    "MR=[5,40,100]\n",
    "for mr in MR:\n",
    "    fig, ax = plt.subplots()\n",
    "    for file in os.listdir(\"results/{}_mr_50_cond/\".format(mr)):\n",
    "        if file.startswith(\"grn_roc\"):\n",
    "            if file == 'grn_roc_baseline.csv':\n",
    "                baseline = file\n",
    "                continue\n",
    "            roc = pd.read_csv(\"results/{}_mr_50_cond/\".format(mr) + file, header=0)\n",
    "            pr_display = RocCurveDisplay(fpr=roc[\"fpr\"], tpr=roc[\"tpr\"]).plot(ax=ax, color='#1f77b4')\n",
    "\n",
    "    roc = pd.read_csv(\"results/{}_mr_50_cond/\".format(mr) + baseline, header=0)\n",
    "    pr_display = RocCurveDisplay(fpr=roc[\"fpr\"], tpr=roc[\"tpr\"]).plot(ax=ax, color='red')\n",
    "    plt.savefig(\"results/{}_roc_plot.png\".format(mr))"
   ],
   "metadata": {
    "collapsed": false,
    "pycharm": {
     "name": "#%%\n"
    }
   }
  },
  {
   "cell_type": "code",
   "execution_count": null,
   "id": "74d95a97-d4e7-43f6-842a-ef407c22568a",
   "metadata": {
    "pycharm": {
     "name": "#%%\n"
    }
   },
   "outputs": [],
   "source": []
  }
 ],
 "metadata": {
  "kernelspec": {
   "display_name": "treeGRN",
   "language": "python",
   "name": "treegrn"
  },
  "language_info": {
   "codemirror_mode": {
    "name": "ipython",
    "version": 3
   },
   "file_extension": ".py",
   "mimetype": "text/x-python",
   "name": "python",
   "nbconvert_exporter": "python",
   "pygments_lexer": "ipython3",
   "version": "3.10.13"
  }
 },
 "nbformat": 4,
 "nbformat_minor": 5
}